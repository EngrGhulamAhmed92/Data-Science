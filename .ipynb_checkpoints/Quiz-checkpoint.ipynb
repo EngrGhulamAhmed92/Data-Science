{
 "cells": [
  {
   "cell_type": "code",
   "execution_count": null,
   "id": "cfdbd071-ee56-4356-af78-39b765d7b729",
   "metadata": {},
   "outputs": [],
   "source": [
    "#1.(C)"
   ]
  },
  {
   "cell_type": "code",
   "execution_count": null,
   "id": "b485a3a8-36cc-4805-83dd-6ec0b3430ff6",
   "metadata": {},
   "outputs": [],
   "source": [
    "#2.(b)"
   ]
  },
  {
   "cell_type": "code",
   "execution_count": null,
   "id": "2e6a9ce2-bd06-47a5-b546-9d5277d5653e",
   "metadata": {},
   "outputs": [],
   "source": [
    "#3.(4)"
   ]
  },
  {
   "cell_type": "code",
   "execution_count": null,
   "id": "81f0a54c-ff96-4c9e-b8f3-0ee6bff3a4ff",
   "metadata": {},
   "outputs": [],
   "source": [
    "#4.(Hello)"
   ]
  },
  {
   "cell_type": "code",
   "execution_count": null,
   "id": "3547fa1c-a5f1-4332-a9a7-5fac9a8fad96",
   "metadata": {},
   "outputs": [],
   "source": [
    "#5.(a)"
   ]
  },
  {
   "cell_type": "code",
   "execution_count": null,
   "id": "a17a67bf-da4c-4668-9448-5568eb4a1114",
   "metadata": {},
   "outputs": [],
   "source": [
    "#6.(c)"
   ]
  },
  {
   "cell_type": "code",
   "execution_count": null,
   "id": "1b68f78f-cd73-4ac9-a79f-ab7483102826",
   "metadata": {},
   "outputs": [],
   "source": [
    "#7\n",
    "Mutable datatype values can be change example list.\n",
    "However Imutable datatype values cannot be change example tuple.\n"
   ]
  },
  {
   "cell_type": "code",
   "execution_count": 3,
   "id": "ee57c962-bc56-4fd9-8936-4d2d206ce572",
   "metadata": {},
   "outputs": [
    {
     "name": "stdout",
     "output_type": "stream",
     "text": [
      "[19, 22, 19, 24, 20, 25, 26, 24, 25, 24]\n",
      "Print min 19\n",
      "Print max 26\n"
     ]
    }
   ],
   "source": [
    "#8\n",
    "age = [19, 22, 19, 24, 20, 25, 26, 24, 25, 24]\n",
    "print(age)\n",
    "print(\"Print min\",min(age))\n",
    "print(\"Print max\",max(age))\n"
   ]
  },
  {
   "cell_type": "code",
   "execution_count": 39,
   "id": "c57d0d6d-9de4-419e-b942-ae7224f9f056",
   "metadata": {},
   "outputs": [
    {
     "name": "stdout",
     "output_type": "stream",
     "text": [
      "()\n",
      "<class 'tuple'>\n"
     ]
    }
   ],
   "source": [
    "#9\n",
    "tuple=()\n",
    "print(tuple)\n",
    "print(type(tuple))"
   ]
  },
  {
   "cell_type": "code",
   "execution_count": 69,
   "id": "b4dae68c-2e20-4bd1-a0af-afd77e7394e5",
   "metadata": {},
   "outputs": [
    {
     "name": "stdout",
     "output_type": "stream",
     "text": [
      "('ali', 'moiz', 'seema')\n",
      "<class 'tuple'>\n"
     ]
    }
   ],
   "source": [
    "family_members=(\"ali\",\"moiz\",\"seema\")\n",
    "print(family_members)\n",
    "print(type(family_members))"
   ]
  },
  {
   "cell_type": "code",
   "execution_count": 63,
   "id": "bca1a8be-a18f-4404-b0a3-7a1a3a54e60b",
   "metadata": {},
   "outputs": [
    {
     "data": {
      "text/plain": [
       "0"
      ]
     },
     "execution_count": 63,
     "metadata": {},
     "output_type": "execute_result"
    }
   ],
   "source": [
    "family_members.count(\"family_members\")"
   ]
  },
  {
   "cell_type": "code",
   "execution_count": null,
   "id": "a0cee280-ea2d-461b-ab76-67f47308d0dd",
   "metadata": {},
   "outputs": [],
   "source": []
  }
 ],
 "metadata": {
  "kernelspec": {
   "display_name": "Python 3 (ipykernel)",
   "language": "python",
   "name": "python3"
  },
  "language_info": {
   "codemirror_mode": {
    "name": "ipython",
    "version": 3
   },
   "file_extension": ".py",
   "mimetype": "text/x-python",
   "name": "python",
   "nbconvert_exporter": "python",
   "pygments_lexer": "ipython3",
   "version": "3.12.4"
  }
 },
 "nbformat": 4,
 "nbformat_minor": 5
}
