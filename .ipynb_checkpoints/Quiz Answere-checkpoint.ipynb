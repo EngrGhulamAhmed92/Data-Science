{
 "cells": [
  {
   "cell_type": "code",
   "execution_count": 3,
   "id": "95765e1e-9e9c-4d0e-8fc4-3c2ef00c1d18",
   "metadata": {},
   "outputs": [
    {
     "name": "stdout",
     "output_type": "stream",
     "text": [
      "[19, 19, 20, 22, 24, 24, 24, 25, 25, 26]\n",
      "min 19\n",
      "max 26\n",
      "added min and maximum [19, 19, 20, 22, 24, 24, 24, 25, 25, 26, 19, 26]\n",
      "median is 12.0\n",
      "average is 22.75\n",
      "range is 7\n"
     ]
    }
   ],
   "source": [
    "ages = [19, 22, 19, 24, 20, 25, 26, 24, 25, 24]\n",
    "# list sorting\n",
    "ages.sort()\n",
    "print(ages)\n",
    "# min and max in the age list\n",
    "print(\"min\",min(ages))\n",
    "print(\"max\",max(ages))\n",
    "# adding min and max again to the list\n",
    "min_item = min(ages)\n",
    "max_item = max(ages)\n",
    "ages.append(min_item)\n",
    "ages.append(max_item)\n",
    "print(\"added min and maximum\",ages)\n",
    "# finding median\n",
    "middle_index = len(ages) / 2\n",
    "middle_item = ages[int(middle_index)]\n",
    "print(\"median is\",middle_item/2)\n",
    "# finding average age\n",
    "sum_of_all_item= sum(ages)\n",
    "length_of_ages = len(ages)\n",
    "print(\"average is\",sum_of_all_item/length_of_ages)\n",
    "# finding range\n",
    "print(\"range is\",max_item - min_item)"
   ]
  },
  {
   "cell_type": "code",
   "execution_count": 7,
   "id": "f96a1ef3-393e-488c-9a03-54c706f30b63",
   "metadata": {},
   "outputs": [
    {
     "name": "stdout",
     "output_type": "stream",
     "text": [
      "[19, 22, 19, 24, 20, 25, 26, 24, 25, 24]\n"
     ]
    }
   ],
   "source": [
    "ages = [19, 22, 19, 24, 20, 25, 26, 24, 25, 24]\n",
    "print(ages)"
   ]
  },
  {
   "cell_type": "code",
   "execution_count": 11,
   "id": "34fe3df0-2196-4188-bc88-c9cb4156d273",
   "metadata": {},
   "outputs": [
    {
     "name": "stdout",
     "output_type": "stream",
     "text": [
      "[19, 19, 20, 22, 24, 24, 24, 25, 25, 26]\n"
     ]
    }
   ],
   "source": [
    "ages.sort()\n",
    "print(ages)"
   ]
  },
  {
   "cell_type": "code",
   "execution_count": 17,
   "id": "f1f6249e-120e-45de-9fc3-1a92fd049545",
   "metadata": {},
   "outputs": [
    {
     "name": "stdout",
     "output_type": "stream",
     "text": [
      "min 19\n",
      "max 26\n"
     ]
    }
   ],
   "source": [
    "# min and max in the age list\n",
    "print(\"min\",min(ages))\n",
    "print(\"max\",max(ages))"
   ]
  },
  {
   "cell_type": "code",
   "execution_count": null,
   "id": "f75ca535-3385-46d0-b310-210894a60ca6",
   "metadata": {},
   "outputs": [],
   "source": []
  },
  {
   "cell_type": "code",
   "execution_count": null,
   "id": "6e10676e-0eb0-4f8e-8743-0d1045f5c63d",
   "metadata": {},
   "outputs": [],
   "source": []
  }
 ],
 "metadata": {
  "kernelspec": {
   "display_name": "Python 3 (ipykernel)",
   "language": "python",
   "name": "python3"
  },
  "language_info": {
   "codemirror_mode": {
    "name": "ipython",
    "version": 3
   },
   "file_extension": ".py",
   "mimetype": "text/x-python",
   "name": "python",
   "nbconvert_exporter": "python",
   "pygments_lexer": "ipython3",
   "version": "3.12.4"
  }
 },
 "nbformat": 4,
 "nbformat_minor": 5
}
