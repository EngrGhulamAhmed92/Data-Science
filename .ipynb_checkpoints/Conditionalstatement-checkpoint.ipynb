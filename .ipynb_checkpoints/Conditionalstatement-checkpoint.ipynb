{
 "cells": [
  {
   "cell_type": "code",
   "execution_count": 1,
   "id": "fdfd1055-19e6-4ee0-9d18-1c02db07824d",
   "metadata": {},
   "outputs": [
    {
     "name": "stdin",
     "output_type": "stream",
     "text": [
      "Enter your age:  45\n"
     ]
    },
    {
     "name": "stdout",
     "output_type": "stream",
     "text": [
      "you can cast a vote and your age is greater then 18\n"
     ]
    }
   ],
   "source": [
    "# Condtional statements\n",
    "# if ,else\n",
    "age=int(input(\"Enter your age: \"))\n",
    "if age>18:\n",
    "    print(\"you can cast a vote and your age is greater then 18\")\n",
    "elif age ==18:\n",
    "    print(\"you are 18 year old\")\n",
    "else:\n",
    "    print(\"You can not cast a vote\")"
   ]
  },
  {
   "cell_type": "code",
   "execution_count": 2,
   "id": "eec09da0-ac14-46eb-8af3-c093f6553092",
   "metadata": {},
   "outputs": [
    {
     "name": "stdin",
     "output_type": "stream",
     "text": [
      "Enter your Name:  45\n"
     ]
    },
    {
     "name": "stdout",
     "output_type": "stream",
     "text": [
      "user name is Good\n"
     ]
    }
   ],
   "source": [
    "user_name = input(\"Enter your Name: \")\n",
    "if len(user_name) >10 :\n",
    "    print(\"username is too Big\")\n",
    "elif len(user_name) ==8:\n",
    "    print(\"username length is Good\")\n",
    "else:\n",
    "    print(\"user name is Good\")"
   ]
  },
  {
   "cell_type": "code",
   "execution_count": 3,
   "id": "5ebc2751-92eb-4067-beb3-f05067ffb732",
   "metadata": {},
   "outputs": [
    {
     "name": "stdin",
     "output_type": "stream",
     "text": [
      "Enter Number1 : 56\n",
      "Enter Number2 : 78\n",
      "Enter Number3 : 65\n"
     ]
    },
    {
     "name": "stdout",
     "output_type": "stream",
     "text": [
      "Number2 is largest 78\n"
     ]
    }
   ],
   "source": [
    "number1 = int(input(\"Enter Number1 :\"))\n",
    "number2 = int(input(\"Enter Number2 :\"))\n",
    "number3 = int(input(\"Enter Number3 :\"))\n",
    "if number1>number2 and number1>number3:\n",
    "    print(\"Number1 is largest \",number1)\n",
    "elif number2> number3:\n",
    "    print(\"Number2 is largest\",number2)\n",
    "else:\n",
    "    print(\"Number3 is largest\",number3)"
   ]
  },
  {
   "cell_type": "code",
   "execution_count": 4,
   "id": "4cfa485d-f5af-4a43-811e-1fe8c1620da7",
   "metadata": {},
   "outputs": [
    {
     "name": "stdin",
     "output_type": "stream",
     "text": [
      "Enter your Number 23\n"
     ]
    },
    {
     "name": "stdout",
     "output_type": "stream",
     "text": [
      "Number is Positive\n"
     ]
    }
   ],
   "source": [
    "user_input = input(\"Enter your Number\")\n",
    "if user_input.replace(\".\",\"\").replace(\"-\",\"\").replace(\"+\",\"\").isdigit():\n",
    "  # Check if input is a digit\n",
    "    num = float(user_input)\n",
    "    if num>0:\n",
    "        print(\"Number is Positive\")\n",
    "    elif num==0:\n",
    "        print(\"Number is zero\")\n",
    "    else:\n",
    "        print(\"Number is Negetive\")\n",
    "else:\n",
    "    print(\"Enter a valid number.\")"
   ]
  },
  {
   "cell_type": "code",
   "execution_count": 34,
   "id": "76741890-d93a-4f08-bd40-6fca88896c82",
   "metadata": {},
   "outputs": [
    {
     "name": "stdout",
     "output_type": "stream",
     "text": [
      "<class 'dict'>\n"
     ]
    }
   ],
   "source": [
    "#Dictionaries we use curly bracket\n",
    "emp_d={}\n",
    "print(type(emp_d))"
   ]
  },
  {
   "cell_type": "code",
   "execution_count": 36,
   "id": "065d8c5f-17b2-41aa-9dfb-6f744bf77a77",
   "metadata": {},
   "outputs": [
    {
     "name": "stdout",
     "output_type": "stream",
     "text": [
      "<class 'dict'>\n"
     ]
    }
   ],
   "source": [
    "imp={}\n",
    "print(type(imp))"
   ]
  },
  {
   "cell_type": "code",
   "execution_count": 7,
   "id": "5c75cebd-3439-4cb8-bb14-2822b7934a52",
   "metadata": {},
   "outputs": [
    {
     "name": "stdout",
     "output_type": "stream",
     "text": [
      "{'Name': 'Ahmed', 'Gender': 'Male', 'Skills': ['Data Science', 'ML', 'AI'], 'Age': 31, 'height': 5.1}\n",
      "<class 'dict'>\n"
     ]
    }
   ],
   "source": [
    "person = {'Name':'Ahmed',\n",
    "          'Gender':'Male',\n",
    "          'Skills':['Data Science','ML','AI'],\n",
    "          'Age':31,\n",
    "         \"height\":5.1,}\n",
    "print(person)\n",
    "print(type(person))"
   ]
  },
  {
   "cell_type": "code",
   "execution_count": 9,
   "id": "8ff3acee-31d0-4212-9dc6-c5d7081c89f1",
   "metadata": {},
   "outputs": [
    {
     "data": {
      "text/plain": [
       "dict_keys(['Name', 'Gender', 'Skills', 'Age', 'height'])"
      ]
     },
     "execution_count": 9,
     "metadata": {},
     "output_type": "execute_result"
    }
   ],
   "source": [
    "# Keys of a dictionary\n",
    "person.keys()"
   ]
  },
  {
   "cell_type": "code",
   "execution_count": 10,
   "id": "9500bf9f-e802-4502-a52b-40a62a5d192b",
   "metadata": {},
   "outputs": [
    {
     "data": {
      "text/plain": [
       "dict_values(['Ahmed', 'Male', ['Data Science', 'ML', 'AI'], 31, 5.1])"
      ]
     },
     "execution_count": 10,
     "metadata": {},
     "output_type": "execute_result"
    }
   ],
   "source": [
    "# Values in your dictionary \n",
    "person.values()"
   ]
  },
  {
   "cell_type": "code",
   "execution_count": 11,
   "id": "71e74a42-759f-471c-9ce9-cd9e605e8c40",
   "metadata": {},
   "outputs": [
    {
     "data": {
      "text/plain": [
       "dict_values(['Ahmed', 'Male', ['Data Science', 'ML', 'AI'], 31, 5.1])"
      ]
     },
     "execution_count": 11,
     "metadata": {},
     "output_type": "execute_result"
    }
   ],
   "source": [
    "# keys and values together\n",
    "person.values()"
   ]
  },
  {
   "cell_type": "code",
   "execution_count": 13,
   "id": "bfa5afa4-23b7-4af1-aefb-69d7f5569b05",
   "metadata": {},
   "outputs": [
    {
     "data": {
      "text/plain": [
       "{'Name': 'Ahmed',\n",
       " 'Gender': 'Male',\n",
       " 'Skills': ['Data Science', 'ML', 'AI'],\n",
       " 'Age': 31,\n",
       " 'height': 5.1}"
      ]
     },
     "execution_count": 13,
     "metadata": {},
     "output_type": "execute_result"
    }
   ],
   "source": [
    "# keys and values together\n",
    "person.copy()"
   ]
  },
  {
   "cell_type": "code",
   "execution_count": 15,
   "id": "2244b92a-6e6e-4506-a2d2-d9248ca43af1",
   "metadata": {},
   "outputs": [
    {
     "data": {
      "text/plain": [
       "['Data Science', 'ML', 'AI']"
      ]
     },
     "execution_count": 15,
     "metadata": {},
     "output_type": "execute_result"
    }
   ],
   "source": [
    "#key with get function\n",
    "person.get('Skills')"
   ]
  },
  {
   "cell_type": "code",
   "execution_count": 17,
   "id": "d334b338-0d9b-4f87-9469-53b91c2c00b1",
   "metadata": {},
   "outputs": [
    {
     "name": "stdout",
     "output_type": "stream",
     "text": [
      "{'Name': 'Ahmed', 'Gender': 'Male', 'Marks': {'Python': 70, 'JS': 75, 'Java': 89}, 'Age': 31}\n",
      "<class 'dict'>\n"
     ]
    }
   ],
   "source": [
    "person1 = {'Name':'Ahmed',\n",
    "          'Gender':'Male',\n",
    "          'Marks':{'Python':70,'JS':75,'Java':89},\n",
    "          'Age':31}\n",
    "print(person1)\n",
    "print(type(person1))"
   ]
  },
  {
   "cell_type": "code",
   "execution_count": 19,
   "id": "e5d64ce0-04a3-4495-bfa3-42eae3221899",
   "metadata": {},
   "outputs": [
    {
     "data": {
      "text/plain": [
       "89"
      ]
     },
     "execution_count": 19,
     "metadata": {},
     "output_type": "execute_result"
    }
   ],
   "source": [
    "person1.get('Marks')['Java']"
   ]
  },
  {
   "cell_type": "code",
   "execution_count": 21,
   "id": "d8e63ecb-a696-40ef-9da7-9e04e987cc54",
   "metadata": {},
   "outputs": [
    {
     "name": "stdout",
     "output_type": "stream",
     "text": [
      "5\n",
      "4\n"
     ]
    }
   ],
   "source": [
    "print(len(person))\n",
    "print(len(person1))"
   ]
  },
  {
   "cell_type": "code",
   "execution_count": 23,
   "id": "7f2df1ac-cb9f-4e15-ba79-b0cbef05abb4",
   "metadata": {},
   "outputs": [
    {
     "name": "stdout",
     "output_type": "stream",
     "text": [
      "{'Name': 'Ahmed', 'Gender': 'Male', 'Skills': ['Data Science', 'ML', 'AI'], 'Age': 31, 'height': 5.1, 'Marks': {'Python': 70, 'JS': 75, 'Java': 89}}\n"
     ]
    }
   ],
   "source": [
    "person.update(person1)\n",
    "print(person)"
   ]
  },
  {
   "cell_type": "code",
   "execution_count": 25,
   "id": "faefc636-e857-4c69-8af0-5aaba13427ba",
   "metadata": {},
   "outputs": [
    {
     "name": "stdout",
     "output_type": "stream",
     "text": [
      "{'Name': 'Ahmed', 'Gender': 'Male', 'Skills': ['Data Science', 'ML', 'AI'], 'Age': 31, 'height': 5.1, 'Marks': {'Python': 70, 'JS': 75, 'Java': 89}, 'Organization': 'Institute of Space Technology'}\n"
     ]
    }
   ],
   "source": [
    "person['Organization']='Institute of Space Technology'\n",
    "print(person)"
   ]
  },
  {
   "cell_type": "code",
   "execution_count": 27,
   "id": "c40bef20-800e-4148-a451-60fb6bf9fb08",
   "metadata": {},
   "outputs": [
    {
     "name": "stdout",
     "output_type": "stream",
     "text": [
      "{'Name': 'Ahmed', 'Gender': 'Male', 'Skills': ['Data Science', 'ML', 'AI'], 'Age': 31, 'height': 5.1, 'Marks': {'Python': 70, 'JS': 75, 'Java': 89}, 'Organization': 'Institute of Space Technology'}\n"
     ]
    }
   ],
   "source": [
    "print(person)"
   ]
  },
  {
   "cell_type": "code",
   "execution_count": 29,
   "id": "9f5d2aee-e619-40a2-86ab-e22264bc5521",
   "metadata": {},
   "outputs": [
    {
     "name": "stdout",
     "output_type": "stream",
     "text": [
      "{'Name': 'Ahmed', 'Gender': 'Male', 'Skills': ['Data Science', 'ML', 'AI'], 'Age': 31, 'height': 5.1, 'Marks': {'Python': 70, 'JS': 75, 'Java': 89}, 'Organization': 'Institute of Space Technology', 'Roll': 32, 'Address': 'Pakistan'}\n"
     ]
    }
   ],
   "source": [
    "person.update({'Roll':32,'Address':'Pakistan'})\n",
    "print(person)"
   ]
  },
  {
   "cell_type": "code",
   "execution_count": 62,
   "id": "77a9780e-33c1-4d81-83bd-f0ea99aaaa30",
   "metadata": {},
   "outputs": [
    {
     "data": {
      "text/plain": [
       "75"
      ]
     },
     "execution_count": 62,
     "metadata": {},
     "output_type": "execute_result"
    }
   ],
   "source": [
    "person.get('Marks')['JS']"
   ]
  },
  {
   "cell_type": "code",
   "execution_count": 64,
   "id": "944bd305-655a-4b61-9cf0-29e0564b0cfb",
   "metadata": {},
   "outputs": [
    {
     "data": {
      "text/plain": [
       "['Address',\n",
       " 'Age',\n",
       " 'Gender',\n",
       " 'Marks',\n",
       " 'Name',\n",
       " 'Organization',\n",
       " 'Roll',\n",
       " 'Skills',\n",
       " 'height']"
      ]
     },
     "execution_count": 64,
     "metadata": {},
     "output_type": "execute_result"
    }
   ],
   "source": [
    "sorted(person)"
   ]
  },
  {
   "cell_type": "code",
   "execution_count": 31,
   "id": "8c05acb0-a723-4efd-9289-f696918d31aa",
   "metadata": {},
   "outputs": [
    {
     "data": {
      "text/plain": [
       "'Male'"
      ]
     },
     "execution_count": 31,
     "metadata": {},
     "output_type": "execute_result"
    }
   ],
   "source": [
    "person.pop('Gender')"
   ]
  },
  {
   "cell_type": "code",
   "execution_count": 33,
   "id": "59629a05-adcc-4d61-9d00-6ca8d5592acc",
   "metadata": {},
   "outputs": [
    {
     "name": "stdout",
     "output_type": "stream",
     "text": [
      "{'Name': 'Ahmed', 'Skills': ['Data Science', 'ML', 'AI'], 'Age': 31, 'height': 5.1, 'Marks': {'Python': 70, 'JS': 75, 'Java': 89}, 'Organization': 'Institute of Space Technology', 'Roll': 32, 'Address': 'Pakistan'}\n"
     ]
    }
   ],
   "source": [
    "print(person)"
   ]
  },
  {
   "cell_type": "code",
   "execution_count": 35,
   "id": "cc3cc6e5-d8e9-4b3f-8d58-7b66e22be96b",
   "metadata": {},
   "outputs": [
    {
     "data": {
      "text/plain": [
       "('Address', 'Pakistan')"
      ]
     },
     "execution_count": 35,
     "metadata": {},
     "output_type": "execute_result"
    }
   ],
   "source": [
    "# working with keys\n",
    "person.popitem()"
   ]
  },
  {
   "cell_type": "code",
   "execution_count": 37,
   "id": "df87d7d0-015a-4e4d-b7f0-9b2703404944",
   "metadata": {},
   "outputs": [
    {
     "data": {
      "text/plain": [
       "{'Name': 'Ahmed',\n",
       " 'Skills': ['Data Science', 'ML', 'AI'],\n",
       " 'Age': 31,\n",
       " 'height': 5.1,\n",
       " 'Marks': {'Python': 70, 'JS': 75, 'Java': 89},\n",
       " 'Organization': 'Institute of Space Technology',\n",
       " 'Roll': 32}"
      ]
     },
     "execution_count": 37,
     "metadata": {},
     "output_type": "execute_result"
    }
   ],
   "source": [
    "person"
   ]
  },
  {
   "cell_type": "code",
   "execution_count": 41,
   "id": "fbb3bd86-6ef5-400e-9f5c-1d3a28f889dd",
   "metadata": {},
   "outputs": [
    {
     "name": "stdout",
     "output_type": "stream",
     "text": [
      "Farooq\n"
     ]
    },
    {
     "data": {
      "text/plain": [
       "{'brand': 'Mercedies', 'teacher': 'Farooq', 'year': 1964}"
      ]
     },
     "execution_count": 41,
     "metadata": {},
     "output_type": "execute_result"
    }
   ],
   "source": [
    "python = {\n",
    "  \"brand\": \"Mercedies\",\n",
    "  'teacher':'Farooq',\n",
    "  \"year\": 1964\n",
    "}\n",
    "x = python.setdefault(\"teacher\", \"Sajid\")\n",
    "\n",
    "print(x)\n",
    "python"
   ]
  },
  {
   "cell_type": "code",
   "execution_count": 43,
   "id": "7592387f-fe8a-48fe-8f44-0ca4b16e910c",
   "metadata": {},
   "outputs": [
    {
     "name": "stdout",
     "output_type": "stream",
     "text": [
      "['__doc__', '__loader__', '__name__', '__package__', '__spec__', 'acos', 'acosh', 'asin', 'asinh', 'atan', 'atan2', 'atanh', 'cbrt', 'ceil', 'comb', 'copysign', 'cos', 'cosh', 'degrees', 'dist', 'e', 'erf', 'erfc', 'exp', 'exp2', 'expm1', 'fabs', 'factorial', 'floor', 'fmod', 'frexp', 'fsum', 'gamma', 'gcd', 'hypot', 'inf', 'isclose', 'isfinite', 'isinf', 'isnan', 'isqrt', 'lcm', 'ldexp', 'lgamma', 'log', 'log10', 'log1p', 'log2', 'modf', 'nan', 'nextafter', 'perm', 'pi', 'pow', 'prod', 'radians', 'remainder', 'sin', 'sinh', 'sqrt', 'sumprod', 'tan', 'tanh', 'tau', 'trunc', 'ulp']\n"
     ]
    }
   ],
   "source": [
    "import math\n",
    "print(dir(math))"
   ]
  },
  {
   "cell_type": "code",
   "execution_count": 45,
   "id": "160a2ec3-1f8c-4637-aa50-6df53063c8d2",
   "metadata": {},
   "outputs": [
    {
     "data": {
      "text/plain": [
       "4"
      ]
     },
     "execution_count": 45,
     "metadata": {},
     "output_type": "execute_result"
    }
   ],
   "source": [
    "math.ceil(3.5)"
   ]
  },
  {
   "cell_type": "code",
   "execution_count": 49,
   "id": "44b08cdd-f758-41b8-b522-8f84e7aeb667",
   "metadata": {},
   "outputs": [
    {
     "data": {
      "text/plain": [
       "2.0"
      ]
     },
     "execution_count": 49,
     "metadata": {},
     "output_type": "execute_result"
    }
   ],
   "source": [
    "math.sqrt(4)"
   ]
  },
  {
   "cell_type": "code",
   "execution_count": 51,
   "id": "26dc6fd8-21fa-4c47-9614-8877916090d6",
   "metadata": {},
   "outputs": [
    {
     "data": {
      "text/plain": [
       "4.0"
      ]
     },
     "execution_count": 51,
     "metadata": {},
     "output_type": "execute_result"
    }
   ],
   "source": [
    "math.sqrt(16)"
   ]
  },
  {
   "cell_type": "code",
   "execution_count": 53,
   "id": "c63c628d-92f8-4de3-a399-ce72cb13244d",
   "metadata": {},
   "outputs": [
    {
     "data": {
      "text/plain": [
       "8.0"
      ]
     },
     "execution_count": 53,
     "metadata": {},
     "output_type": "execute_result"
    }
   ],
   "source": [
    "math.pow(2,3)"
   ]
  },
  {
   "cell_type": "code",
   "execution_count": 55,
   "id": "a1699757-ef07-4a67-b1b4-3952b77887f8",
   "metadata": {},
   "outputs": [
    {
     "data": {
      "text/plain": [
       "720"
      ]
     },
     "execution_count": 55,
     "metadata": {},
     "output_type": "execute_result"
    }
   ],
   "source": [
    "math.factorial(6)"
   ]
  },
  {
   "cell_type": "code",
   "execution_count": 59,
   "id": "72722a15-bfd1-43b9-9df4-76d08fb48c9f",
   "metadata": {},
   "outputs": [
    {
     "data": {
      "text/plain": [
       "['AddPackagePath',\n",
       " 'Module',\n",
       " 'ModuleFinder',\n",
       " 'ReplacePackage',\n",
       " '_C_BUILTIN',\n",
       " '_C_EXTENSION',\n",
       " '_PKG_DIRECTORY',\n",
       " '_PY_COMPILED',\n",
       " '_PY_FROZEN',\n",
       " '_PY_SOURCE',\n",
       " '_SEARCH_ERROR',\n",
       " '__builtins__',\n",
       " '__cached__',\n",
       " '__doc__',\n",
       " '__file__',\n",
       " '__loader__',\n",
       " '__name__',\n",
       " '__package__',\n",
       " '__spec__',\n",
       " '_find_module',\n",
       " 'dis',\n",
       " 'importlib',\n",
       " 'io',\n",
       " 'marshal',\n",
       " 'os',\n",
       " 'packagePathMap',\n",
       " 'replacePackageMap',\n",
       " 'sys',\n",
       " 'test']"
      ]
     },
     "execution_count": 59,
     "metadata": {},
     "output_type": "execute_result"
    }
   ],
   "source": [
    "import modulefinder\n",
    "dir(modulefinder)"
   ]
  },
  {
   "cell_type": "code",
   "execution_count": 61,
   "id": "8dcb1099-3ad5-4cbd-a7d1-e72ae4995ac6",
   "metadata": {},
   "outputs": [
    {
     "name": "stdout",
     "output_type": "stream",
     "text": [
      "['__all__', '__builtins__', '__cached__', '__doc__', '__file__', '__loader__', '__name__', '__package__', '__spec__', 'iskeyword', 'issoftkeyword', 'kwlist', 'softkwlist']\n"
     ]
    }
   ],
   "source": [
    "import keyword\n",
    "print(dir(keyword))"
   ]
  },
  {
   "cell_type": "code",
   "execution_count": 63,
   "id": "0ecfb61c-b28c-42c2-b380-45fcbfb49552",
   "metadata": {},
   "outputs": [],
   "source": [
    "import random"
   ]
  },
  {
   "cell_type": "code",
   "execution_count": 65,
   "id": "65e80752-42fd-4535-bce1-8bc79af33d81",
   "metadata": {},
   "outputs": [
    {
     "data": {
      "text/plain": [
       "10"
      ]
     },
     "execution_count": 65,
     "metadata": {},
     "output_type": "execute_result"
    }
   ],
   "source": [
    "random.randint(1,15)\n"
   ]
  },
  {
   "cell_type": "code",
   "execution_count": null,
   "id": "2c387507-3f65-42b0-aa87-68f4b1d9f932",
   "metadata": {},
   "outputs": [],
   "source": []
  }
 ],
 "metadata": {
  "kernelspec": {
   "display_name": "Python 3 (ipykernel)",
   "language": "python",
   "name": "python3"
  },
  "language_info": {
   "codemirror_mode": {
    "name": "ipython",
    "version": 3
   },
   "file_extension": ".py",
   "mimetype": "text/x-python",
   "name": "python",
   "nbconvert_exporter": "python",
   "pygments_lexer": "ipython3",
   "version": "3.12.4"
  }
 },
 "nbformat": 4,
 "nbformat_minor": 5
}
