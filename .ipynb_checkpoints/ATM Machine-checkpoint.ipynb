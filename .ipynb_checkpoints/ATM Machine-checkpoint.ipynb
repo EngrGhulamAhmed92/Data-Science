{
 "cells": [
  {
   "cell_type": "code",
   "execution_count": 14,
   "id": "85587542-f219-429c-b3aa-c980d5ed0e11",
   "metadata": {},
   "outputs": [
    {
     "name": "stdout",
     "output_type": "stream",
     "text": [
      "Welcome to the ATM\n"
     ]
    },
    {
     "name": "stdin",
     "output_type": "stream",
     "text": [
      "Enter your 4-digit PIN:  1234\n"
     ]
    },
    {
     "name": "stdout",
     "output_type": "stream",
     "text": [
      "\n",
      "ATM Menu:\n",
      "1. Check Balance\n",
      "2. Deposit Money\n",
      "3. Withdraw Money\n",
      "4. Exit\n"
     ]
    },
    {
     "name": "stdin",
     "output_type": "stream",
     "text": [
      "Select an option (1-4):  2\n",
      "Enter amount to deposit: $ 1200\n"
     ]
    },
    {
     "name": "stdout",
     "output_type": "stream",
     "text": [
      "Deposited $1200.0. New balance: $2200.0\n",
      "\n",
      "ATM Menu:\n",
      "1. Check Balance\n",
      "2. Deposit Money\n",
      "3. Withdraw Money\n",
      "4. Exit\n"
     ]
    },
    {
     "name": "stdin",
     "output_type": "stream",
     "text": [
      "Select an option (1-4):  4\n"
     ]
    },
    {
     "name": "stdout",
     "output_type": "stream",
     "text": [
      "Thank you for using the ATM. Goodbye!\n"
     ]
    }
   ],
   "source": [
    "def atm_machine():\n",
    "    balance = 1000  # Initial balance\n",
    "    pin = \"1234\"    # Default PIN\n",
    "    \n",
    "    print(\"Welcome to the ATM\")\n",
    "    \n",
    "    # Ask user to enter their PIN\n",
    "    entered_pin = input(\"Enter your 4-digit PIN: \")\n",
    "    \n",
    "    # Check if the PIN is correct\n",
    "    if entered_pin != pin:\n",
    "        print(\"Incorrect PIN. Access denied.\")\n",
    "        return\n",
    "    \n",
    "    # Start ATM operations\n",
    "    while True:\n",
    "        print(\"\\nATM Menu:\")\n",
    "        print(\"1. Check Balance\")\n",
    "        print(\"2. Deposit Money\")\n",
    "        print(\"3. Withdraw Money\")\n",
    "        print(\"4. Exit\")\n",
    "\n",
    "        choice = input(\"Select an option (1-4): \")\n",
    "\n",
    "        if choice == '1':\n",
    "            # Display the balance\n",
    "            print(f\"Your balance is: ${balance}\")\n",
    "        elif choice == '2':\n",
    "            # Deposit money\n",
    "            try:\n",
    "                deposit = float(input(\"Enter amount to deposit: $\"))\n",
    "                if deposit > 0:\n",
    "                    balance += deposit\n",
    "                    print(f\"Deposited ${deposit}. New balance: ${balance}\")\n",
    "                else:\n",
    "                    print(\"Amount must be greater than 0.\")\n",
    "            except ValueError:\n",
    "                print(\"Please enter a valid number.\")\n",
    "        elif choice == '3':\n",
    "            # Withdraw money\n",
    "            try:\n",
    "                withdraw = float(input(\"Enter amount to withdraw: $\"))\n",
    "                if withdraw <= balance and withdraw > 0:\n",
    "                    balance -= withdraw\n",
    "                    print(f\"Withdrew ${withdraw}. New balance: ${balance}\")\n",
    "                else:\n",
    "                    print(\"Insufficient funds or invalid amount.\")\n",
    "            except ValueError:\n",
    "                print(\"Please enter a valid number.\")\n",
    "        elif choice == '4':\n",
    "            print(\"Thank you for using the ATM. Goodbye!\")\n",
    "            break\n",
    "        else:\n",
    "            print(\"Invalid option, please try again.\")\n",
    "\n",
    "# Start the ATM program\n",
    "atm_machine()"
   ]
  },
  {
   "cell_type": "code",
   "execution_count": 1,
   "id": "cbed4be6-16bf-4d7f-b6f2-e1fdb5d8753f",
   "metadata": {},
   "outputs": [
    {
     "name": "stdout",
     "output_type": "stream",
     "text": [
      "Welcome to the Coffee Maker!\n",
      "Choose a coffee type:\n",
      "1. Espresso\n",
      "2. Latte\n",
      "3. Cappuccino\n"
     ]
    },
    {
     "name": "stdin",
     "output_type": "stream",
     "text": [
      "Enter your choice (1-3):  1\n"
     ]
    },
    {
     "name": "stdout",
     "output_type": "stream",
     "text": [
      "Making Espresso...\n"
     ]
    }
   ],
   "source": [
    "def make_coffee(coffee_type):\n",
    "    if coffee_type == \"Espresso\":\n",
    "        print(\"Making Espresso...\")\n",
    "    elif coffee_type == \"Latte\":\n",
    "        print(\"Making Latte...\")\n",
    "    elif coffee_type == \"Cappuccino\":\n",
    "        print(\"Making Cappuccino...\")\n",
    "    else:\n",
    "        print(\"Invalid choice! Please choose a valid coffee type.\")\n",
    "\n",
    "def main():\n",
    "    print(\"Welcome to the Coffee Maker!\")\n",
    "    print(\"Choose a coffee type:\")\n",
    "    print(\"1. Espresso\")\n",
    "    print(\"2. Latte\")\n",
    "    print(\"3. Cappuccino\")\n",
    "\n",
    "    choice = input(\"Enter your choice (1-3): \")\n",
    "\n",
    "    if choice == \"1\":\n",
    "        make_coffee(\"Espresso\")\n",
    "    elif choice == \"2\":\n",
    "        make_coffee(\"Latte\")\n",
    "    elif choice == \"3\":\n",
    "        make_coffee(\"Cappuccino\")\n",
    "    else:\n",
    "        print(\"Invalid choice. Please restart the program and select a valid option.\")\n",
    "\n",
    "if __name__ == \"__main__\":\n",
    "    main()"
   ]
  },
  {
   "cell_type": "code",
   "execution_count": null,
   "id": "595cf1b8-3da3-4d59-b5d3-b6755a68b233",
   "metadata": {},
   "outputs": [
    {
     "name": "stdout",
     "output_type": "stream",
     "text": [
      "\n",
      "Available Coffee Options:\n",
      "Espresso - Requires: 50ml water, 0ml milk, 18g coffee beans\n",
      "Latte - Requires: 200ml water, 150ml milk, 24g coffee beans\n",
      "Cappuccino - Requires: 150ml water, 100ml milk, 24g coffee beans\n"
     ]
    },
    {
     "name": "stdin",
     "output_type": "stream",
     "text": [
      "\n",
      "Enter your coffee choice (espresso, latte, cappuccino) or 'exit' to quit:  espresso\n"
     ]
    },
    {
     "name": "stdout",
     "output_type": "stream",
     "text": [
      "Making a espresso...\n",
      "Coffee is ready! Enjoy your drink!\n",
      "\n",
      "Current resources:\n",
      "Water: 250ml\n",
      "Milk: 200ml\n",
      "Coffee_beans: 82g\n"
     ]
    },
    {
     "name": "stdin",
     "output_type": "stream",
     "text": [
      "\n",
      "Would you like to refill the resources? (yes/no):  yes\n"
     ]
    },
    {
     "name": "stdout",
     "output_type": "stream",
     "text": [
      "Resources have been refilled.\n",
      "\n",
      "Available Coffee Options:\n",
      "Espresso - Requires: 50ml water, 0ml milk, 18g coffee beans\n",
      "Latte - Requires: 200ml water, 150ml milk, 24g coffee beans\n",
      "Cappuccino - Requires: 150ml water, 100ml milk, 24g coffee beans\n"
     ]
    },
    {
     "name": "stdin",
     "output_type": "stream",
     "text": [
      "\n",
      "Enter your coffee choice (espresso, latte, cappuccino) or 'exit' to quit:  latte\n"
     ]
    },
    {
     "name": "stdout",
     "output_type": "stream",
     "text": [
      "Making a latte...\n",
      "Coffee is ready! Enjoy your drink!\n",
      "\n",
      "Current resources:\n",
      "Water: 100ml\n",
      "Milk: 50ml\n",
      "Coffee_beans: 76g\n"
     ]
    },
    {
     "name": "stdin",
     "output_type": "stream",
     "text": [
      "\n",
      "Would you like to refill the resources? (yes/no):  yes\n"
     ]
    },
    {
     "name": "stdout",
     "output_type": "stream",
     "text": [
      "Resources have been refilled.\n",
      "\n",
      "Available Coffee Options:\n",
      "Espresso - Requires: 50ml water, 0ml milk, 18g coffee beans\n",
      "Latte - Requires: 200ml water, 150ml milk, 24g coffee beans\n",
      "Cappuccino - Requires: 150ml water, 100ml milk, 24g coffee beans\n"
     ]
    },
    {
     "name": "stdin",
     "output_type": "stream",
     "text": [
      "\n",
      "Enter your coffee choice (espresso, latte, cappuccino) or 'exit' to quit:  cappiccino\n"
     ]
    },
    {
     "name": "stdout",
     "output_type": "stream",
     "text": [
      "Invalid choice, please select a valid coffee.\n",
      "\n",
      "Current resources:\n",
      "Water: 300ml\n",
      "Milk: 200ml\n",
      "Coffee_beans: 100g\n"
     ]
    },
    {
     "name": "stdin",
     "output_type": "stream",
     "text": [
      "\n",
      "Would you like to refill the resources? (yes/no):  yes\n"
     ]
    },
    {
     "name": "stdout",
     "output_type": "stream",
     "text": [
      "Resources have been refilled.\n",
      "\n",
      "Available Coffee Options:\n",
      "Espresso - Requires: 50ml water, 0ml milk, 18g coffee beans\n",
      "Latte - Requires: 200ml water, 150ml milk, 24g coffee beans\n",
      "Cappuccino - Requires: 150ml water, 100ml milk, 24g coffee beans\n"
     ]
    },
    {
     "name": "stdin",
     "output_type": "stream",
     "text": [
      "\n",
      "Enter your coffee choice (espresso, latte, cappuccino) or 'exit' to quit:  cappuccino\n"
     ]
    },
    {
     "name": "stdout",
     "output_type": "stream",
     "text": [
      "Making a cappuccino...\n",
      "Coffee is ready! Enjoy your drink!\n",
      "\n",
      "Current resources:\n",
      "Water: 150ml\n",
      "Milk: 100ml\n",
      "Coffee_beans: 76g\n"
     ]
    }
   ],
   "source": [
    "class CoffeeMaker:\n",
    "    def __init__(self):\n",
    "        # Initial resources available in the coffee maker\n",
    "        self.resources = {\n",
    "            \"water\": 300,  # in ml\n",
    "            \"milk\": 200,   # in ml\n",
    "            \"coffee_beans\": 100,  # in grams\n",
    "        }\n",
    "        self.menu = {\n",
    "            \"espresso\": {\"water\": 50, \"milk\": 0, \"coffee_beans\": 18},\n",
    "            \"latte\": {\"water\": 200, \"milk\": 150, \"coffee_beans\": 24},\n",
    "            \"cappuccino\": {\"water\": 150, \"milk\": 100, \"coffee_beans\": 24},\n",
    "        }\n",
    "    \n",
    "    def check_resources(self, coffee_type):\n",
    "        \"\"\"Check if there are enough resources to make the chosen coffee.\"\"\"\n",
    "        required_resources = self.menu[coffee_type]\n",
    "        for ingredient, amount in required_resources.items():\n",
    "            if self.resources[ingredient] < amount:\n",
    "                print(f\"Sorry, not enough {ingredient}.\")\n",
    "                return False\n",
    "        return True\n",
    "    \n",
    "    def make_coffee(self, coffee_type):\n",
    "        \"\"\"Make the coffee if resources are sufficient.\"\"\"\n",
    "        if self.check_resources(coffee_type):\n",
    "            # Deduct the ingredients\n",
    "            for ingredient, amount in self.menu[coffee_type].items():\n",
    "                self.resources[ingredient] -= amount\n",
    "            print(f\"Making a {coffee_type}...\")\n",
    "            print(\"Coffee is ready! Enjoy your drink!\")\n",
    "        else:\n",
    "            print(\"Please restock the ingredients.\")\n",
    "\n",
    "    def refill_resources(self):\n",
    "        \"\"\"Refill all the resources to their initial values.\"\"\"\n",
    "        self.resources = {\n",
    "            \"water\": 300,\n",
    "            \"milk\": 200,\n",
    "            \"coffee_beans\": 100,\n",
    "        }\n",
    "        print(\"Resources have been refilled.\")\n",
    "\n",
    "    def display_resources(self):\n",
    "        \"\"\"Display the current state of resources.\"\"\"\n",
    "        print(\"\\nCurrent resources:\")\n",
    "        for ingredient, amount in self.resources.items():\n",
    "            print(f\"{ingredient.capitalize()}: {amount}ml\" if ingredient != \"coffee_beans\" else f\"{ingredient.capitalize()}: {amount}g\")\n",
    "        \n",
    "    def show_menu(self):\n",
    "        \"\"\"Display the available coffee menu.\"\"\"\n",
    "        print(\"\\nAvailable Coffee Options:\")\n",
    "        for coffee, ingredients in self.menu.items():\n",
    "            print(f\"{coffee.capitalize()} - Requires: \"\n",
    "                  f\"{ingredients['water']}ml water, \"\n",
    "                  f\"{ingredients['milk']}ml milk, \"\n",
    "                  f\"{ingredients['coffee_beans']}g coffee beans\")\n",
    "\n",
    "\n",
    "# Simulate the Coffee Maker\n",
    "def main():\n",
    "    coffee_maker = CoffeeMaker()\n",
    "    \n",
    "    while True:\n",
    "        coffee_maker.show_menu()\n",
    "        coffee_choice = input(\"\\nEnter your coffee choice (espresso, latte, cappuccino) or 'exit' to quit: \").lower()\n",
    "        \n",
    "        if coffee_choice == 'exit':\n",
    "            print(\"Exiting the coffee maker. Have a nice day!\")\n",
    "            break\n",
    "        \n",
    "        if coffee_choice in coffee_maker.menu:\n",
    "            coffee_maker.make_coffee(coffee_choice)\n",
    "        else:\n",
    "            print(\"Invalid choice, please select a valid coffee.\")\n",
    "        \n",
    "        coffee_maker.display_resources()\n",
    "\n",
    "        refill = input(\"\\nWould you like to refill the resources? (yes/no): \").lower()\n",
    "        if refill == 'yes':\n",
    "            coffee_maker.refill_resources()\n",
    "\n",
    "if __name__ == \"__main__\":\n",
    "    main()"
   ]
  },
  {
   "cell_type": "code",
   "execution_count": null,
   "id": "ed2d4aef-e2ee-4bf9-b9f3-a20efe9b5c97",
   "metadata": {},
   "outputs": [],
   "source": []
  }
 ],
 "metadata": {
  "kernelspec": {
   "display_name": "Python 3 (ipykernel)",
   "language": "python",
   "name": "python3"
  },
  "language_info": {
   "codemirror_mode": {
    "name": "ipython",
    "version": 3
   },
   "file_extension": ".py",
   "mimetype": "text/x-python",
   "name": "python",
   "nbconvert_exporter": "python",
   "pygments_lexer": "ipython3",
   "version": "3.12.4"
  }
 },
 "nbformat": 4,
 "nbformat_minor": 5
}
