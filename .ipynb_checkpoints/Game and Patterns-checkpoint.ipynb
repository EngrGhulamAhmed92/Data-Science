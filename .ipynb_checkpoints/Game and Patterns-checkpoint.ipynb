{
 "cells": [
  {
   "cell_type": "code",
   "execution_count": 16,
   "id": "ef616471-d169-470e-80f0-b4f02ec1b733",
   "metadata": {},
   "outputs": [
    {
     "name": "stdout",
     "output_type": "stream",
     "text": [
      "55\n"
     ]
    },
    {
     "name": "stdin",
     "output_type": "stream",
     "text": [
      "Guess the number 3\n"
     ]
    }
   ],
   "source": [
    "#guess game\n",
    "import random\n",
    "jackpot=random.randint(1,100)\n",
    "print(jackpot)\n",
    "guess_num=int(input(\"Guess the number\"))"
   ]
  },
  {
   "cell_type": "code",
   "execution_count": 20,
   "id": "472540a3-f0a7-435c-b966-36809c1847a0",
   "metadata": {},
   "outputs": [
    {
     "name": "stdout",
     "output_type": "stream",
     "text": [
      "56\n"
     ]
    },
    {
     "name": "stdin",
     "output_type": "stream",
     "text": [
      "Guess the number 100\n"
     ]
    },
    {
     "name": "stdout",
     "output_type": "stream",
     "text": [
      "Guess lower number\n"
     ]
    }
   ],
   "source": [
    "#guess game\n",
    "import random\n",
    "jackpot=random.randint(1,100)\n",
    "print(jackpot)\n",
    "guess_num=int(input(\"Guess the number\"))\n",
    "if guess_num<jackpot:\n",
    "    print(\"Guess Higher number\")\n",
    "else:\n",
    "    print(\"Guess lower number\")"
   ]
  },
  {
   "cell_type": "code",
   "execution_count": null,
   "id": "9539bf5e-b3f5-4b48-857a-7e2addecb5f2",
   "metadata": {},
   "outputs": [
    {
     "name": "stdout",
     "output_type": "stream",
     "text": [
      "6\n"
     ]
    },
    {
     "name": "stdin",
     "output_type": "stream",
     "text": [
      "Guess the number 56\n"
     ]
    },
    {
     "name": "stdout",
     "output_type": "stream",
     "text": [
      "Guess lower number\n"
     ]
    },
    {
     "name": "stdin",
     "output_type": "stream",
     "text": [
      "Guess the number 67\n"
     ]
    },
    {
     "name": "stdout",
     "output_type": "stream",
     "text": [
      "Guess lower number\n"
     ]
    },
    {
     "name": "stdin",
     "output_type": "stream",
     "text": [
      "Guess the number 67\n"
     ]
    },
    {
     "name": "stdout",
     "output_type": "stream",
     "text": [
      "Guess lower number\n"
     ]
    },
    {
     "name": "stdin",
     "output_type": "stream",
     "text": [
      "Guess the number 78\n"
     ]
    },
    {
     "name": "stdout",
     "output_type": "stream",
     "text": [
      "Guess lower number\n"
     ]
    }
   ],
   "source": [
    "#guess game\n",
    "import random\n",
    "jackpot=random.randint(1,100)\n",
    "print(jackpot)\n",
    "guess_num=int(input(\"Guess the number\"))\n",
    "while guess_num!=jackpot:\n",
    "    if guess_num<jackpot:\n",
    "        print(\"Guess Higher number\")\n",
    "    else:\n",
    "        print(\"Guess lower number\")\n",
    "        guess_num=int(input(\"Guess the number\"))\n",
    "else:\n",
    "    print(\"You have entered correct number\")"
   ]
  },
  {
   "cell_type": "code",
   "execution_count": null,
   "id": "e03ef448-9ccc-4e1f-882f-904141ac05a7",
   "metadata": {},
   "outputs": [],
   "source": []
  },
  {
   "cell_type": "code",
   "execution_count": null,
   "id": "e5e051f3-1f5b-4a0c-8d4d-5cfa23701508",
   "metadata": {},
   "outputs": [],
   "source": []
  }
 ],
 "metadata": {
  "kernelspec": {
   "display_name": "Python 3 (ipykernel)",
   "language": "python",
   "name": "python3"
  },
  "language_info": {
   "codemirror_mode": {
    "name": "ipython",
    "version": 3
   },
   "file_extension": ".py",
   "mimetype": "text/x-python",
   "name": "python",
   "nbconvert_exporter": "python",
   "pygments_lexer": "ipython3",
   "version": "3.12.4"
  }
 },
 "nbformat": 4,
 "nbformat_minor": 5
}
