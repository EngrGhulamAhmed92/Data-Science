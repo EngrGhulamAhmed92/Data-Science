{
 "cells": [
  {
   "cell_type": "code",
   "execution_count": 3,
   "id": "a66f5e35-410f-483c-bad6-2dcbb1f60bbf",
   "metadata": {},
   "outputs": [
    {
     "name": "stdout",
     "output_type": "stream",
     "text": [
      "you are 18 year old\n",
      "congrations\n"
     ]
    }
   ],
   "source": [
    "#Conditional Statement\n",
    "# if ,else\n",
    "age=18\n",
    "if age>18:\n",
    "    print(\"you can cast a vote and your age is greater than 18\")\n",
    "elif age==18:\n",
    "    print(\"you are 18 year old\")\n",
    "else:\n",
    "    print (\"you are not 18 year old\")\n",
    "print (\"congrations\")"
   ]
  },
  {
   "cell_type": "code",
   "execution_count": 7,
   "id": "c9cf2e5e-27ce-4217-a3cd-3f11e88cbc4a",
   "metadata": {},
   "outputs": [
    {
     "name": "stdin",
     "output_type": "stream",
     "text": [
      "Enter your age: 12\n"
     ]
    },
    {
     "name": "stdout",
     "output_type": "stream",
     "text": [
      "you are not 18 year old\n",
      "congrations\n"
     ]
    }
   ],
   "source": []
  },
  {
   "cell_type": "code",
   "execution_count": 9,
   "id": "72a57adc-a50b-47c9-ab99-484cafe20ce8",
   "metadata": {},
   "outputs": [
    {
     "name": "stdin",
     "output_type": "stream",
     "text": [
      "Enter your name 8\n"
     ]
    },
    {
     "name": "stdout",
     "output_type": "stream",
     "text": [
      "username is too long\n"
     ]
    }
   ],
   "source": [
    "user_name = input(\"Enter your name\")\n",
    "if len(user_name)>10:\n",
    "    print(\"user is too big\")\n",
    "elif len(user_name) ==8:\n",
    "    print(\"username length is good\")\n",
    "else:\n",
    "    print(\"username is too long\")"
   ]
  },
  {
   "cell_type": "code",
   "execution_count": 3,
   "id": "3e5ac81f-0028-41de-a4ec-e5b020983767",
   "metadata": {},
   "outputs": [
    {
     "name": "stdin",
     "output_type": "stream",
     "text": [
      "Enter number 1: 12\n",
      "Enter number 2: 12\n",
      "Enter number 3: 12\n"
     ]
    },
    {
     "name": "stdout",
     "output_type": "stream",
     "text": [
      "Number3 is Largest: 12\n"
     ]
    }
   ],
   "source": [
    "number1 =int(input(\"Enter number 1:\"))\n",
    "number2 =int(input(\"Enter number 2:\"))\n",
    "number3 =int(input(\"Enter number 3:\"))\n",
    "if number1>number2 and number1>number3:\n",
    "    print(\"Number1 is Largest\",number1)\n",
    "elif number2> number3:\n",
    "    print (\"Number2 is Largest\",number2)\n",
    "else: \n",
    "    print(\"Number3 is Largest:\",number3)\n"
   ]
  },
  {
   "cell_type": "code",
   "execution_count": 7,
   "id": "bf0b36da-d7f3-4fe9-85ce-9251a98ea2e5",
   "metadata": {},
   "outputs": [
    {
     "name": "stdin",
     "output_type": "stream",
     "text": [
      "Enter your username:  abc@gmail.com\n",
      "Enter your password:  12345\n"
     ]
    },
    {
     "name": "stdout",
     "output_type": "stream",
     "text": [
      "Login successful!\n"
     ]
    }
   ],
   "source": [
    "# Correct username and password\n",
    "correct_username = \"abc@gmail.com\"\n",
    "correct_password = \"12345\"\n",
    "\n",
    "# Input from user\n",
    "username = input(\"Enter your username: \")\n",
    "password = input(\"Enter your password: \")\n",
    "\n",
    "# Check if the username and password are correct\n",
    "if username == correct_username and password == correct_password:\n",
    "    print(\"Login successful!\")\n",
    "else:\n",
    "    print(\"Invalid username or password.\")\n",
    "\n",
    "\n",
    "\n"
   ]
  },
  {
   "cell_type": "code",
   "execution_count": null,
   "id": "5a70d6df-eff4-4a58-b1bc-6ca97af52205",
   "metadata": {},
   "outputs": [],
   "source": []
  },
  {
   "cell_type": "code",
   "execution_count": null,
   "id": "f1f476f2-29cf-4077-a2f6-d43da3c6ca59",
   "metadata": {},
   "outputs": [],
   "source": []
  }
 ],
 "metadata": {
  "kernelspec": {
   "display_name": "Python 3 (ipykernel)",
   "language": "python",
   "name": "python3"
  },
  "language_info": {
   "codemirror_mode": {
    "name": "ipython",
    "version": 3
   },
   "file_extension": ".py",
   "mimetype": "text/x-python",
   "name": "python",
   "nbconvert_exporter": "python",
   "pygments_lexer": "ipython3",
   "version": "3.12.4"
  }
 },
 "nbformat": 4,
 "nbformat_minor": 5
}
