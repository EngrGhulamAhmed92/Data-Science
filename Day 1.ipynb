{
 "cells": [
  {
   "cell_type": "code",
   "execution_count": 3,
   "id": "55c390a0-bb88-4e01-a2c4-8af84250bd91",
   "metadata": {},
   "outputs": [
    {
     "name": "stdout",
     "output_type": "stream",
     "text": [
      "ALLAH Pak is Great\n"
     ]
    }
   ],
   "source": [
    "print (\"ALLAH Pak is Great\")"
   ]
  },
  {
   "cell_type": "code",
   "execution_count": 3,
   "id": "6244069f-df1b-4090-9ce9-e1425a33a819",
   "metadata": {},
   "outputs": [
    {
     "name": "stdout",
     "output_type": "stream",
     "text": [
      "Thanks my dear ALLAH \n"
     ]
    }
   ],
   "source": [
    "print (\"Thanks my dear ALLAH \")"
   ]
  },
  {
   "cell_type": "code",
   "execution_count": 5,
   "id": "6fee4ab8-d0b1-4430-b951-8516273ae882",
   "metadata": {},
   "outputs": [
    {
     "name": "stdout",
     "output_type": "stream",
     "text": [
      "Thanks my dear and respected mentor Sir Sajid Majid\n"
     ]
    }
   ],
   "source": [
    "print (\"Thanks my dear and respected mentor Sir Sajid Majid\")"
   ]
  },
  {
   "cell_type": "code",
   "execution_count": null,
   "id": "5aff2ec9-1dac-4c5c-9211-6507266a8fae",
   "metadata": {},
   "outputs": [],
   "source": []
  }
 ],
 "metadata": {
  "kernelspec": {
   "display_name": "Python 3 (ipykernel)",
   "language": "python",
   "name": "python3"
  },
  "language_info": {
   "codemirror_mode": {
    "name": "ipython",
    "version": 3
   },
   "file_extension": ".py",
   "mimetype": "text/x-python",
   "name": "python",
   "nbconvert_exporter": "python",
   "pygments_lexer": "ipython3",
   "version": "3.12.4"
  }
 },
 "nbformat": 4,
 "nbformat_minor": 5
}
