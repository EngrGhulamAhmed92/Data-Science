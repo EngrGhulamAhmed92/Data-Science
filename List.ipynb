{
 "cells": [
  {
   "cell_type": "code",
   "execution_count": 1,
   "id": "8db9f211-9f25-4554-8aea-654457a647ed",
   "metadata": {},
   "outputs": [
    {
     "name": "stdout",
     "output_type": "stream",
     "text": [
      "[]\n",
      "<class 'list'>\n"
     ]
    }
   ],
   "source": [
    "fruit=[]\n",
    "print(fruit)\n",
    "print(type(fruit))"
   ]
  },
  {
   "cell_type": "code",
   "execution_count": 2,
   "id": "fbaaa826-8bf5-4e10-b16f-30ca186b43dd",
   "metadata": {},
   "outputs": [
    {
     "name": "stdout",
     "output_type": "stream",
     "text": [
      "['mango', 'banana', 'grapes', 'avacado', 'berry']\n",
      "<class 'list'>\n"
     ]
    }
   ],
   "source": [
    "#Create list of atoms\n",
    "fruit=[\"mango\", \"banana\", \"grapes\", \"avacado\" ,\"berry\"]\n",
    "print(fruit)\n",
    "print(type(fruit))"
   ]
  },
  {
   "cell_type": "code",
   "execution_count": 3,
   "id": "f193d6da-04a0-43fb-8b3a-d4c57a9d020a",
   "metadata": {},
   "outputs": [
    {
     "name": "stdout",
     "output_type": "stream",
     "text": [
      "['mango', 'banana', 'grapes', 'avacado', 'berry', 'apple']\n",
      "<class 'list'>\n"
     ]
    }
   ],
   "source": [
    "#Append function is used for adding some thing in list\n",
    "fruit.append(\"apple\")\n",
    "print(fruit)\n",
    "print(type(fruit))"
   ]
  },
  {
   "cell_type": "code",
   "execution_count": 4,
   "id": "1c308a61-ba9a-402d-b714-3f5da4294585",
   "metadata": {},
   "outputs": [
    {
     "name": "stdout",
     "output_type": "stream",
     "text": [
      "6\n"
     ]
    }
   ],
   "source": [
    "#How to findlenght of fruits \n",
    "print(len(fruit))"
   ]
  },
  {
   "cell_type": "code",
   "execution_count": 5,
   "id": "15b993a6-2f72-4a26-9851-e238de0d346f",
   "metadata": {},
   "outputs": [
    {
     "name": "stdout",
     "output_type": "stream",
     "text": [
      "mango\n"
     ]
    }
   ],
   "source": [
    "# Indexing in indexing we use [0,1,2,3,4,5]\n",
    "print(fruit[0])"
   ]
  },
  {
   "cell_type": "code",
   "execution_count": 6,
   "id": "8289fc53-220c-4442-8762-25fecd553830",
   "metadata": {},
   "outputs": [
    {
     "name": "stdout",
     "output_type": "stream",
     "text": [
      "avacado\n"
     ]
    }
   ],
   "source": [
    "# indexing a number\n",
    "print(fruit[3])"
   ]
  },
  {
   "cell_type": "code",
   "execution_count": 7,
   "id": "ddc2c553-bf38-4054-8e3f-83973a8d334b",
   "metadata": {},
   "outputs": [
    {
     "data": {
      "text/plain": [
       "['mango', 'banana', 'grapes', 'avacado', 'berry', 'apple']"
      ]
     },
     "execution_count": 7,
     "metadata": {},
     "output_type": "execute_result"
    }
   ],
   "source": [
    "#inclusive and exclusive\n",
    "fruit[:]"
   ]
  },
  {
   "cell_type": "code",
   "execution_count": 8,
   "id": "ca1de661-ff98-4c88-9afc-11387824a1cd",
   "metadata": {},
   "outputs": [
    {
     "data": {
      "text/plain": [
       "['mango', 'banana', 'grapes', 'avacado']"
      ]
     },
     "execution_count": 8,
     "metadata": {},
     "output_type": "execute_result"
    }
   ],
   "source": [
    "#include fruits 0 to 4 (the 4th fruit is not included)\n",
    "fruit[0:4]"
   ]
  },
  {
   "cell_type": "code",
   "execution_count": 9,
   "id": "cf28daa4-4484-46b7-b756-a77eb03b5e5d",
   "metadata": {},
   "outputs": [
    {
     "data": {
      "text/plain": [
       "['banana', 'grapes', 'avacado', 'berry', 'apple']"
      ]
     },
     "execution_count": 9,
     "metadata": {},
     "output_type": "execute_result"
    }
   ],
   "source": [
    "fruit[1:6]"
   ]
  },
  {
   "cell_type": "code",
   "execution_count": 10,
   "id": "2b8e5df0-782d-48a0-b161-ddf69b5c0cc6",
   "metadata": {},
   "outputs": [
    {
     "data": {
      "text/plain": [
       "['mango', 'banana', 'grapes', 'avacado', 'berry', 'apple']"
      ]
     },
     "execution_count": 10,
     "metadata": {},
     "output_type": "execute_result"
    }
   ],
   "source": [
    "fruit[:]"
   ]
  },
  {
   "cell_type": "code",
   "execution_count": 11,
   "id": "165062d5-e81a-4f72-ade5-de90475e30b7",
   "metadata": {},
   "outputs": [
    {
     "data": {
      "text/plain": [
       "['mango', 'grapes', 'berry']"
      ]
     },
     "execution_count": 11,
     "metadata": {},
     "output_type": "execute_result"
    }
   ],
   "source": [
    "#step function start no End no and step\n",
    "fruit[0:7:2]"
   ]
  },
  {
   "cell_type": "code",
   "execution_count": 12,
   "id": "8f53a790-1f55-40f7-a7af-287a8b30db4b",
   "metadata": {},
   "outputs": [
    {
     "name": "stdout",
     "output_type": "stream",
     "text": [
      "['mango', 'banana', 'grapes', 'avacado', 'berry', 'apple']\n"
     ]
    }
   ],
   "source": [
    "#print a list of fruit again\n",
    "print(fruit)"
   ]
  },
  {
   "cell_type": "code",
   "execution_count": 13,
   "id": "be369265-ba28-463a-be27-88777675cf6e",
   "metadata": {},
   "outputs": [
    {
     "data": {
      "text/plain": [
       "['banana', 'avacado', 'apple']"
      ]
     },
     "execution_count": 13,
     "metadata": {},
     "output_type": "execute_result"
    }
   ],
   "source": [
    "fruit[1:7:2]"
   ]
  },
  {
   "cell_type": "code",
   "execution_count": 14,
   "id": "e8f83428-0344-4259-a7ec-cd2ebfefc093",
   "metadata": {},
   "outputs": [
    {
     "data": {
      "text/plain": [
       "['mango', 'banana', 'grapes', 'avacado', 'berry', 'apple']"
      ]
     },
     "execution_count": 14,
     "metadata": {},
     "output_type": "execute_result"
    }
   ],
   "source": [
    "fruit"
   ]
  },
  {
   "cell_type": "code",
   "execution_count": 15,
   "id": "57477153-0063-4a97-99a4-884ad5ef0f15",
   "metadata": {},
   "outputs": [
    {
     "data": {
      "text/plain": [
       "['mango', 'banana', 'grapes', 'avacado', 'berry', 'apple']"
      ]
     },
     "execution_count": 15,
     "metadata": {},
     "output_type": "execute_result"
    }
   ],
   "source": [
    "#Reset kernel for al set\n",
    "fruit"
   ]
  },
  {
   "cell_type": "code",
   "execution_count": 32,
   "id": "f385703a-9841-4d5a-bfd3-0702f0570285",
   "metadata": {},
   "outputs": [
    {
     "name": "stdout",
     "output_type": "stream",
     "text": [
      "['mango', 'banana', 'grapes', 'avacado', 'berry', 'apple']\n"
     ]
    }
   ],
   "source": [
    "print(fruit)"
   ]
  },
  {
   "cell_type": "code",
   "execution_count": 34,
   "id": "89d93899-d59d-4a0d-a5c0-87a7d7ce3b46",
   "metadata": {},
   "outputs": [
    {
     "data": {
      "text/plain": [
       "['mango', 'banana', 'grapes', 'avacado', 'berry', 'apple']"
      ]
     },
     "execution_count": 34,
     "metadata": {},
     "output_type": "execute_result"
    }
   ],
   "source": [
    "fruit"
   ]
  },
  {
   "cell_type": "code",
   "execution_count": null,
   "id": "23c8044e-4447-4861-a9f2-4046a4b257c8",
   "metadata": {},
   "outputs": [],
   "source": []
  }
 ],
 "metadata": {
  "kernelspec": {
   "display_name": "Python 3 (ipykernel)",
   "language": "python",
   "name": "python3"
  },
  "language_info": {
   "codemirror_mode": {
    "name": "ipython",
    "version": 3
   },
   "file_extension": ".py",
   "mimetype": "text/x-python",
   "name": "python",
   "nbconvert_exporter": "python",
   "pygments_lexer": "ipython3",
   "version": "3.12.4"
  }
 },
 "nbformat": 4,
 "nbformat_minor": 5
}
