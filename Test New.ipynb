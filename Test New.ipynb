{
 "cells": [
  {
   "cell_type": "code",
   "execution_count": 11,
   "id": "5b6ee9e1-83a7-4928-b207-819fa7131a9e",
   "metadata": {},
   "outputs": [
    {
     "ename": "TypeError",
     "evalue": "'builtin_function_or_method' object is not subscriptable",
     "output_type": "error",
     "traceback": [
      "\u001b[1;31m---------------------------------------------------------------------------\u001b[0m",
      "\u001b[1;31mTypeError\u001b[0m                                 Traceback (most recent call last)",
      "Cell \u001b[1;32mIn[11], line 3\u001b[0m\n\u001b[0;32m      1\u001b[0m student_names \u001b[38;5;241m=\u001b[39m [\u001b[38;5;124m'\u001b[39m\u001b[38;5;124mLuis\u001b[39m\u001b[38;5;124m'\u001b[39m, \u001b[38;5;124m'\u001b[39m\u001b[38;5;124mDivya\u001b[39m\u001b[38;5;124m'\u001b[39m \u001b[38;5;124m'\u001b[39m\u001b[38;5;124mMaria\u001b[39m\u001b[38;5;124m'\u001b[39m, \u001b[38;5;124m'\u001b[39m\u001b[38;5;124mMimi\u001b[39m\u001b[38;5;124m'\u001b[39m]\n\u001b[0;32m      2\u001b[0m student_names\u001b[38;5;241m.\u001b[39mappend(\u001b[38;5;124m'\u001b[39m\u001b[38;5;124mArnold\u001b[39m\u001b[38;5;124m'\u001b[39m)\n\u001b[1;32m----> 3\u001b[0m \u001b[38;5;28mprint\u001b[39m[student_names]\n",
      "\u001b[1;31mTypeError\u001b[0m: 'builtin_function_or_method' object is not subscriptable"
     ]
    }
   ],
   "source": [
    "student_names = ['Luis', 'Divya' 'Maria', 'Mimi']\n",
    "student_names.append('Arnold')\n",
    "print[student_names]"
   ]
  },
  {
   "cell_type": "code",
   "execution_count": 34,
   "id": "dbb46439-cc44-4a07-9e9c-7f16bc95b496",
   "metadata": {},
   "outputs": [
    {
     "name": "stdout",
     "output_type": "stream",
     "text": [
      "['Luis', 'Divya', 'Maria', 'Mimi', 'Arnold']\n"
     ]
    }
   ],
   "source": [
    "student_names = ['Luis', 'Divya', 'Maria', 'Mimi']  # Added missing comma between 'Divya' and 'Maria'\n",
    "student_names.append('Arnold')  # Fixed the closing quotation mark for 'Arnold'\n",
    "print(student_names)\n"
   ]
  },
  {
   "cell_type": "code",
   "execution_count": 36,
   "id": "f602a642-94bd-451b-8e63-d5c43bdef3b9",
   "metadata": {},
   "outputs": [
    {
     "name": "stdout",
     "output_type": "stream",
     "text": [
      "29\n"
     ]
    }
   ],
   "source": [
    "nums = (3, 8, -4, 22, 0)  # Define the tuple\n",
    "total_sum = sum(nums)  # Use the sum function to get the total\n",
    "print(total_sum)  # Output the result"
   ]
  },
  {
   "cell_type": "code",
   "execution_count": 38,
   "id": "94eb7800-2194-4663-b996-bf73336a47df",
   "metadata": {},
   "outputs": [
    {
     "name": "stdout",
     "output_type": "stream",
     "text": [
      "Sum of elements: 29\n",
      "Decremented elements: (2, 7, -5, 21, -1)\n"
     ]
    }
   ],
   "source": [
    "nums = (3, 8, -4, 22, 0)  # Define the tuple\n",
    "\n",
    "# Step 1: Calculate the sum of the elements\n",
    "total_sum = sum(nums)\n",
    "print(\"Sum of elements:\", total_sum)\n",
    "\n",
    "# Step 2: Create a new tuple with each element decremented by 1\n",
    "nums_decremented = tuple(num - 1 for num in nums)\n",
    "print(\"Decremented elements:\", nums_decremented)"
   ]
  },
  {
   "cell_type": "code",
   "execution_count": 40,
   "id": "9074da38-51e2-45ef-8f4b-50361442b841",
   "metadata": {},
   "outputs": [
    {
     "name": "stdout",
     "output_type": "stream",
     "text": [
      "Faraz is 21 years old.\n"
     ]
    }
   ],
   "source": [
    "ages = {\n",
    "    'Ahmed': 21,\n",
    "    'Faraz': 21,  # Fixed the syntax by adding missing quotes\n",
    "    'Sarah': 41   # Fixed the syntax by adding missing quotes\n",
    "}\n",
    "\n",
    "# Correctly using the format method to print Faraz's age\n",
    "print('Faraz is {} years old.'.format(ages['Faraz']))"
   ]
  },
  {
   "cell_type": "code",
   "execution_count": 42,
   "id": "aa6bffab-1c38-45bd-832c-65636319e379",
   "metadata": {},
   "outputs": [
    {
     "name": "stdout",
     "output_type": "stream",
     "text": [
      "Faraz is 24 years old.\n"
     ]
    }
   ],
   "source": [
    "ages = {\n",
    "    'Ahmed': 21,\n",
    "    'Faraz': 21,  # Initial age of Faraz\n",
    "    'Sarah': 41\n",
    "}\n",
    "\n",
    "# Update Faraz's age to 24\n",
    "ages['Faraz'] = 24\n",
    "\n",
    "# Print the updated age using the format method\n",
    "print('Faraz is {} years old.'.format(ages['Faraz']))"
   ]
  },
  {
   "cell_type": "code",
   "execution_count": 46,
   "id": "ee577eee-38b9-412e-8691-6b412363a339",
   "metadata": {},
   "outputs": [
    {
     "ename": "KeyError",
     "evalue": "'age'",
     "output_type": "error",
     "traceback": [
      "\u001b[1;31m---------------------------------------------------------------------------\u001b[0m",
      "\u001b[1;31mKeyError\u001b[0m                                  Traceback (most recent call last)",
      "Cell \u001b[1;32mIn[46], line 11\u001b[0m\n\u001b[0;32m      8\u001b[0m ages[\u001b[38;5;124m'\u001b[39m\u001b[38;5;124mFaraz\u001b[39m\u001b[38;5;124m'\u001b[39m] \u001b[38;5;241m=\u001b[39m \u001b[38;5;241m24\u001b[39m\n\u001b[0;32m     10\u001b[0m \u001b[38;5;66;03m# Correctly use the format method to print Faraz's age\u001b[39;00m\n\u001b[1;32m---> 11\u001b[0m \u001b[38;5;28mprint\u001b[39m(\u001b[38;5;124m'\u001b[39m\u001b[38;5;124mFaraz is \u001b[39m\u001b[38;5;132;01m{age}\u001b[39;00m\u001b[38;5;124m years old.\u001b[39m\u001b[38;5;124m'\u001b[39m\u001b[38;5;241m.\u001b[39mformat(ages[\u001b[38;5;124m'\u001b[39m\u001b[38;5;124mFaraz\u001b[39m\u001b[38;5;124m'\u001b[39m]))\n",
      "\u001b[1;31mKeyError\u001b[0m: 'age'"
     ]
    }
   ],
   "source": [
    "ages = {\n",
    "    'Ahmed': 21,\n",
    "    'Faraz': 21,  # Corrected the missing quote after 'Faraz'\n",
    "    'Sarah': 41   # Corrected the missing quote after 'Sarah'\n",
    "}\n",
    "\n",
    "# Update Faraz's age to 24\n",
    "ages['Faraz'] = 24\n",
    "\n",
    "# Correctly use the format method to print Faraz's age\n",
    "print('Faraz is {age} years old.'.format(ages['Faraz']))"
   ]
  },
  {
   "cell_type": "code",
   "execution_count": null,
   "id": "77d0d14b-6135-4ade-9dc4-b91812d95d0a",
   "metadata": {},
   "outputs": [],
   "source": []
  }
 ],
 "metadata": {
  "kernelspec": {
   "display_name": "Python 3 (ipykernel)",
   "language": "python",
   "name": "python3"
  },
  "language_info": {
   "codemirror_mode": {
    "name": "ipython",
    "version": 3
   },
   "file_extension": ".py",
   "mimetype": "text/x-python",
   "name": "python",
   "nbconvert_exporter": "python",
   "pygments_lexer": "ipython3",
   "version": "3.12.4"
  }
 },
 "nbformat": 4,
 "nbformat_minor": 5
}
