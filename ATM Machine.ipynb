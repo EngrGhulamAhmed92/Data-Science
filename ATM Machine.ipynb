{
 "cells": [
  {
   "cell_type": "code",
   "execution_count": 1,
   "id": "85587542-f219-429c-b3aa-c980d5ed0e11",
   "metadata": {},
   "outputs": [
    {
     "name": "stdout",
     "output_type": "stream",
     "text": [
      "Welcome to the ATM\n"
     ]
    },
    {
     "name": "stdin",
     "output_type": "stream",
     "text": [
      "Enter your 4-digit PIN:  1234\n"
     ]
    },
    {
     "name": "stdout",
     "output_type": "stream",
     "text": [
      "Incorrect PIN. Access denied.\n"
     ]
    }
   ],
   "source": [
    "def atm_machine():\n",
    "    balance = 1000  # Initial balance\n",
    "    pin = \"1234\"    # Default PIN\n",
    "    \n",
    "    print(\"Welcome to the ATM\")\n",
    "    \n",
    "    # Ask user to enter their PIN\n",
    "    entered_pin = input(\"Enter your 4-digit PIN: \")\n",
    "    \n",
    "    # Check if the PIN is correct\n",
    "    if entered_pin != pin:\n",
    "        print(\"Incorrect PIN. Access denied.\")\n",
    "        return\n",
    "    \n",
    "    # Start ATM operations\n",
    "    while True:\n",
    "        print(\"\\nATM Menu:\")\n",
    "        print(\"1. Check Balance\")\n",
    "        print(\"2. Deposit Money\")\n",
    "        print(\"3. Withdraw Money\")\n",
    "        print(\"4. Exit\")\n",
    "\n",
    "        choice = input(\"Select an option (1-4): \")\n",
    "\n",
    "        if choice == '1':\n",
    "            # Display the balance\n",
    "            print(f\"Your balance is: ${balance}\")\n",
    "        elif choice == '2':\n",
    "            # Deposit money\n",
    "            try:\n",
    "                deposit = float(input(\"Enter amount to deposit: $\"))\n",
    "                if deposit > 0:\n",
    "                    balance += deposit\n",
    "                    print(f\"Deposited ${deposit}. New balance: ${balance}\")\n",
    "                else:\n",
    "                    print(\"Amount must be greater than 0.\")\n",
    "            except ValueError:\n",
    "                print(\"Please enter a valid number.\")\n",
    "        elif choice == '3':\n",
    "            # Withdraw money\n",
    "            try:\n",
    "                withdraw = float(input(\"Enter amount to withdraw: $\"))\n",
    "                if withdraw <= balance and withdraw > 0:\n",
    "                    balance -= withdraw\n",
    "                    print(f\"Withdrew ${withdraw}. New balance: ${balance}\")\n",
    "                else:\n",
    "                    print(\"Insufficient funds or invalid amount.\")\n",
    "            except ValueError:\n",
    "                print(\"Please enter a valid number.\")\n",
    "        elif choice == '4':\n",
    "            print(\"Thank you for using the ATM. Goodbye!\")\n",
    "            break\n",
    "        else:\n",
    "            print(\"Invalid option, please try again.\")\n",
    "\n",
    "# Start the ATM program\n",
    "atm_machine()"
   ]
  },
  {
   "cell_type": "markdown",
   "id": "d1e489c6-0d92-49ae-b71b-b2804195a5b1",
   "metadata": {},
   "source": [
    "# def make_coffee(coffee_type):\n",
    "    if coffee_type == \"Espresso\":\n",
    "        print(\"Making Espresso...\")\n",
    "    elif coffee_type == \"Latte\":\n",
    "        print(\"Making Latte...\")\n",
    "    elif coffee_type == \"Cappuccino\":\n",
    "        print(\"Making Cappuccino...\")\n",
    "    else:\n",
    "        print(\"Invalid choice! Please choose a valid coffee type.\")\n",
    "\n",
    "def main():\n",
    "    print(\"Welcome to the Coffee Maker!\")\n",
    "    print(\"Choose a coffee type:\")\n",
    "    print(\"1. Espresso\")\n",
    "    print(\"2. Latte\")\n",
    "    print(\"3. Cappuccino\")\n",
    "\n",
    "    choice = input(\"Enter your choice (1-3): \")\n",
    "\n",
    "    if choice == \"1\":\n",
    "        make_coffee(\"Espresso\")\n",
    "    elif choice == \"2\":\n",
    "        make_coffee(\"Latte\")\n",
    "    elif choice == \"3\":\n",
    "        make_coffee(\"Cappuccino\")\n",
    "    else:\n",
    "        print(\"Invalid choice. Please restart the program and select a valid option.\")\n",
    "\n",
    "if __name__ == \"__main__\":\n",
    "    main()"
   ]
  },
  {
   "cell_type": "code",
   "execution_count": null,
   "id": "ed2d4aef-e2ee-4bf9-b9f3-a20efe9b5c97",
   "metadata": {},
   "outputs": [],
   "source": []
  },
  {
   "cell_type": "code",
   "execution_count": null,
   "id": "3386d8d3-6468-4d20-8924-ff13c81cc068",
   "metadata": {},
   "outputs": [],
   "source": []
  }
 ],
 "metadata": {
  "kernelspec": {
   "display_name": "Python 3 (ipykernel)",
   "language": "python",
   "name": "python3"
  },
  "language_info": {
   "codemirror_mode": {
    "name": "ipython",
    "version": 3
   },
   "file_extension": ".py",
   "mimetype": "text/x-python",
   "name": "python",
   "nbconvert_exporter": "python",
   "pygments_lexer": "ipython3",
   "version": "3.12.4"
  }
 },
 "nbformat": 4,
 "nbformat_minor": 5
}
